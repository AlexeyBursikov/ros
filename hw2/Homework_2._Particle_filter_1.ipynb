{
 "cells": [
  {
   "cell_type": "markdown",
   "metadata": {},
   "source": [
    "# Домашнее задание #2. Фильтр частиц"
   ]
  },
  {
   "cell_type": "markdown",
   "metadata": {},
   "source": [
    "В этом домашнем задании мы реализуем алгоритмо оценки собственного положения робота известный как фильтр частиц.\n",
    "Фильтр частиц состоит из следующих шагов:\n",
    "1. Движение частиц в соответсвии с кинематической моделью движения. Движение осуществляется с помощью вероятностной функции движения, учитывающей случайность процесса (шумы параметров движения).\n",
    "2. Сопоставление полученного измерения с ожидаемым, путем применения вероятностной функции измерения, оценивающей вероятность полученного измерения при условии фиксированного положения частицы. В результате этого шага какждой частице присваивается вес пропорциональный правдоподобию измерения при условии заданного положения частицы.\n",
    "3. Ремемплинг - процесс при котором вероятность частицы войти в новую выборку пропорциональна весу (правдоподобию) частиц. \n",
    "\n",
    "\n",
    "## Задание 1\n",
    " \n",
    "Реализуйте модель движения мобильного робота $p(x_{t+1}|x_t, u_t)$ в составе класса *Robot*. Метод должен иметь название *move()*. Метод *move()* принимает на вход текущее положение робота и вектор управляющих сигналов (угол поворота рулей ($\\alpha$) и расстояние, на которое должен переместиться робот ($d$)). Метод *move()* должен возвращать экземпляр класса *Robot* с новым вектором состояния $(x, y, \\theta)$.\n",
    "\n",
    "Для этого домашнего задания мы будем предполагать, что наш робот имеет автомобильную кинематику. Такая кинематика описывается [велосипедной моделью](https://nabinsharma.wordpress.com/2014/01/02/kinematics-of-a-robot-bicycle-model/) (также можно обратиться к Лекции 3.Трицикл, однако внимательно т.к. есть расхождения в обозначениях). Именно велосипедную модель необходимо реализовать в методе *move()* в качестве аппроксимации автомобильной кинематики. \n",
    "\n",
    "**Важно:** координаты $(x, y)$ вектора состояния робота задают положение центра задней колесной оси робота. \n",
    "\n",
    "**Важно:** Метод *move()* также должен моделировать шум управляющих сигналов. Для этого к каждой компоненте вектора управляющих сигналов применяется аддитивный нормальный шум. Шум угла поворота рулей задается атрибутом класса Robot.steering_noise. Шум перемещения задаются атрибутом класса Robot.distance_noise. Параметры *Robot.steering_noise* и *Robot.distance_noise* задают СКО ($\\sigma$) нормального распределения."
   ]
  },
  {
   "cell_type": "code",
   "execution_count": 1,
   "metadata": {},
   "outputs": [],
   "source": [
    "from math import *\n",
    "import random"
   ]
  },
  {
   "cell_type": "code",
   "execution_count": 2,
   "metadata": {},
   "outputs": [],
   "source": [
    "# --------\n",
    "# \n",
    "# the \"world\" has 4 landmarks.\n",
    "# the robot's initial coordinates are somewhere in the square\n",
    "# represented by the landmarks.\n",
    "\n",
    "landmarks  = [[0.0, 100.0], [0.0, 0.0], [100.0, 0.0], [100.0, 100.0]] # position of 4 landmarks\n",
    "world_size = 100.0 # world is NOT cyclic. Robot is allowed to travel \"out of bounds\""
   ]
  },
  {
   "cell_type": "code",
   "execution_count": 3,
   "metadata": {},
   "outputs": [],
   "source": [
    "import math\n",
    "import numpy as np\n",
    "import matplotlib.pyplot as plt\n",
    "\n",
    "\n",
    "class Robot:\n",
    "\n",
    "    # --------\n",
    "\n",
    "    # init: \n",
    "    #   creates robot and initializes location/orientation \n",
    "    #\n",
    "\n",
    "    def __init__(self, length = 10.0):\n",
    "        self.x = np.random.random() * world_size # initial x position\n",
    "        self.y = np.random.random() * world_size # initial y position\n",
    "        self.orientation = np.random.random() * 2.0 * math.pi # initial orientation\n",
    "        self.length = length # length of robot\n",
    "        self.bearing_noise  = 0.0 # initialize bearing noise to zero\n",
    "        self.distance_noise = 0.0 # initialize distance noise to zero\n",
    "        self.steering_noise = 0.0 # initialize steering noise to zero\n",
    "\n",
    "    \n",
    "    def __repr__(self):\n",
    "        return '[x=%.6s y=%.6s theta=%.6s]' % (str(self.x), str(self.y), str(self.orientation))\n",
    "    # --------\n",
    "    # set: \n",
    "    #   sets a robot coordinate\n",
    "    #\n",
    "\n",
    "    def set(self, new_x, new_y, new_orientation):\n",
    "\n",
    "        if new_orientation < 0 or new_orientation >= 2 * math.pi:\n",
    "            raise ValueError('Orientation must be in [0..2pi]')\n",
    "        self.x = float(new_x)\n",
    "        self.y = float(new_y)\n",
    "        self.orientation = float(new_orientation)\n",
    "\n",
    "\n",
    "    # --------\n",
    "    # set_noise: \n",
    "    #\tsets the noise parameters\n",
    "    #\n",
    "\n",
    "    def set_noise(self, new_b_noise, new_s_noise, new_d_noise):\n",
    "        # makes it possible to change the noise parameters\n",
    "        # this is often useful in particle filters\n",
    "        self.bearing_noise  = float(new_b_noise)\n",
    "        self.steering_noise = float(new_s_noise)\n",
    "        self.distance_noise = float(new_d_noise)\n",
    "    \n",
    "    ############# ONLY ADD/MODIFY CODE BELOW ###################\n",
    "\n",
    "    # --------\n",
    "    # move:\n",
    "    #   move along a section of a circular path according to motion parameters\n",
    "    #\n",
    "    \n",
    "    def move(self, motion, no_noise = True):\n",
    "         # make sure your move function returns an instance of Robot class\n",
    "         # with the correct coordinates.\n",
    "        if (not no_noise):\n",
    "            motion[0] += np.random.normal(0,self.steering_noise)\n",
    "            motion[1] += np.random.normal(0,self.distance_noise)\n",
    "            \n",
    "        if (motion[0] == 0):\n",
    "            self.x = self.x + motion[1] * math.cos(self.orientation)\n",
    "            self.y = self.y + motion[1] * math.sin(self.orientation)\n",
    "        else:\n",
    "            R = self.length / math.tan(motion[0])\n",
    "            b = motion[1] / R \n",
    "            \n",
    "            x_c = self.x - R * math.sin(self.orientation)\n",
    "            y_c = self.y + R * math.cos(self.orientation)\n",
    "            self.orientation = (self.orientation + b + 2.0*math.pi) % (2.0*math.pi)\n",
    "            self.x = x_c + R * math.sin(self.orientation)\n",
    "            self.y = y_c - R * math.cos(self.orientation)\n",
    "            \n",
    "        return self\n",
    "    \n",
    "    def sense(self, no_noise = True):\n",
    "        ans = []\n",
    "        for mark in landmarks:\n",
    "            x = mark[1] - self.x\n",
    "            y = mark[0] - self.y\n",
    "            angl = (math.atan2(y, x) - self.orientation)\n",
    "            if (not no_noise):\n",
    "                angl += np.random.normal(0,self.bearing_noise)\n",
    "                \n",
    "            angl = (angl + 2.0*math.pi)  % (2.0*math.pi)\n",
    "            ans.append(angl)\n",
    "            \n",
    "        return ans\n",
    "    \n",
    "    def measurement_prob(self, measurement):\n",
    "        prob = 1.0\n",
    "        meas = self.sense()\n",
    "        for i in range(len(measurement)):\n",
    "            measurement[i] = (measurement[i] + 2.0*math.pi) %  (2.0*math.pi)\n",
    "            meas[i] = (meas[i] + 2.0*math.pi) % (2.0*math.pi)\n",
    "            \n",
    "            dif = abs(measurement[i] - meas[i])\n",
    "            dif = min(dif, 2.0*math.pi - dif)\n",
    "            \n",
    "            prob *= math.exp(-dif ** 2 / 2.0 / self.bearing_noise ** 2) / self.bearing_noise / math.sqrt(2.0*math.pi)\n",
    "        \n",
    "        return np.nan_to_num(prob);\n",
    "    ############## ONLY ADD/MODIFY CODE ABOVE ####################"
   ]
  },
  {
   "cell_type": "code",
   "execution_count": 4,
   "metadata": {},
   "outputs": [
    {
     "name": "stdout",
     "output_type": "stream",
     "text": [
      "Robot:     [x=0.0 y=0.0 theta=0.0]\n",
      "Robot:     [x=10.0 y=0.0 theta=0.0]\n",
      "Robot:     [x=19.861 y=1.4333 theta=0.2886]\n",
      "Robot:     [x=39.034 y=7.1270 theta=0.2886]\n"
     ]
    }
   ],
   "source": [
    "## --------\n",
    "## TEST CASE #1:\n",
    "## \n",
    "## The following code should print:\n",
    "##       Robot:     [x=0.0 y=0.0 theta=0.0]\n",
    "##       Robot:     [x=10.0 y=0.0 theta=0.0]\n",
    "##       Robot:     [x=19.861 y=1.4333 theta=0.2886]\n",
    "##       Robot:     [x=39.034 y=7.1270 theta=0.2886]\n",
    "##\n",
    "\n",
    "length = 20.\n",
    "bearing_noise  = 0.0\n",
    "steering_noise = 0.0\n",
    "distance_noise = 0.0\n",
    "\n",
    "myrobot = Robot(length)\n",
    "myrobot.set(0.0, 0.0, 0.0)\n",
    "myrobot.set_noise(bearing_noise, steering_noise, distance_noise)\n",
    "\n",
    "motions = [[0.0, 10.0], [pi / 6.0, 10], [0.0, 20.0]]\n",
    "\n",
    "T = len(motions)\n",
    "\n",
    "print('Robot:    ', myrobot)\n",
    "for t in range(T):\n",
    "    myrobot = myrobot.move(motions[t])\n",
    "    print('Robot:    ', myrobot)"
   ]
  },
  {
   "cell_type": "code",
   "execution_count": 5,
   "metadata": {},
   "outputs": [
    {
     "name": "stdout",
     "output_type": "stream",
     "text": [
      "Robot:     [x=0.0 y=0.0 theta=0.0]\n",
      "Robot:     [x=9.9828 y=0.5063 theta=0.1013]\n",
      "Robot:     [x=19.863 y=2.0201 theta=0.2027]\n",
      "Robot:     [x=29.539 y=4.5259 theta=0.3040]\n",
      "Robot:     [x=38.913 y=7.9979 theta=0.4054]\n",
      "Robot:     [x=47.887 y=12.400 theta=0.5067]\n",
      "Robot:     [x=56.369 y=17.688 theta=0.6081]\n",
      "Robot:     [x=64.273 y=23.807 theta=0.7094]\n",
      "Robot:     [x=71.517 y=30.695 theta=0.8108]\n",
      "Robot:     [x=78.027 y=38.280 theta=0.9121]\n",
      "Robot:     [x=83.736 y=46.485 theta=1.0135]\n"
     ]
    }
   ],
   "source": [
    "## --------\n",
    "## TEST CASE #2:\n",
    "## \n",
    "## The following code should print:\n",
    "##      Robot:     [x=0.0 y=0.0 theta=0.0]\n",
    "##      Robot:     [x=9.9828 y=0.5063 theta=0.1013]\n",
    "##      Robot:     [x=19.863 y=2.0201 theta=0.2027]\n",
    "##      Robot:     [x=29.539 y=4.5259 theta=0.3040]\n",
    "##      Robot:     [x=38.913 y=7.9979 theta=0.4054]\n",
    "##      Robot:     [x=47.887 y=12.400 theta=0.5067]\n",
    "##      Robot:     [x=56.369 y=17.688 theta=0.6081]\n",
    "##      Robot:     [x=64.273 y=23.807 theta=0.7094]\n",
    "##      Robot:     [x=71.517 y=30.695 theta=0.8108]\n",
    "##      Robot:     [x=78.027 y=38.280 theta=0.9121]\n",
    "##      Robot:     [x=83.736 y=46.485 theta=1.0135]\n",
    "\n",
    "length = 20.\n",
    "bearing_noise  = 0.0\n",
    "steering_noise = 0.0\n",
    "distance_noise = 0.0\n",
    "\n",
    "myrobot = Robot(length)\n",
    "myrobot.set(0.0, 0.0, 0.0)\n",
    "myrobot.set_noise(bearing_noise, steering_noise, distance_noise)\n",
    "\n",
    "motions = [[0.2, 10.] for row in range(10)]\n",
    "\n",
    "T = len(motions)\n",
    "\n",
    "print('Robot:    ', myrobot)\n",
    "for t in range(T):\n",
    "    myrobot = myrobot.move(motions[t])\n",
    "    print('Robot:    ', myrobot) "
   ]
  },
  {
   "cell_type": "markdown",
   "metadata": {},
   "source": [
    "## Задание 2\n",
    " \n",
    "Реализуйте метод измерения мобильного робота. Метод должен иметь название *sense()*. Метод *sense()* принимает на вход текущее состояние робота (*self*) и возвращает $z$ - текущее измерение, состоящее из четырех пеленгов на четыре ориентира, расположенных в пространстве. Пеленгом называется угол, под которым наблюдается объект из текущего положения. Угол, под которым робот наблюдает каждый ориентир отсчитывыется от текущей ориентации $\\theta$ робота. Направление против часовой стрелки принимается положительным. \n",
    "\n",
    "Для расчета пеленга вам потребуется положение ориентиров в пространстве. Оно задается глобальной переменной *landmarks*.\n",
    "\n",
    "**Важно:** метод *sense()* также должен моделировать шум измерения. Для этого к каждой компоненте вектора измерения применяется аддитивный нормальный шум. Шум измерения задается атрибутом класса *Robot.bearing_noise*. Этот параметр задает СКО ($\\sigma$) нормального распределения. Предусмотрите возможность рассчитывать незашумленный вектор измерения, передавая в функцию входной аргумент *no_noise = True*. "
   ]
  },
  {
   "cell_type": "markdown",
   "metadata": {},
   "source": [
    "Скопруйте класс Robot в ячейку ниже и добавьте к нему метод *sense()*."
   ]
  },
  {
   "cell_type": "code",
   "execution_count": null,
   "metadata": {},
   "outputs": [],
   "source": []
  },
  {
   "cell_type": "code",
   "execution_count": 6,
   "metadata": {},
   "outputs": [
    {
     "name": "stdout",
     "output_type": "stream",
     "text": [
      "Robot:         [x=30.0 y=20.0 theta=0.0]\n",
      "Measurements:  [6.004885648174475, 3.7295952571373605, 1.9295669970654679, 0.8519663271732725]\n"
     ]
    }
   ],
   "source": [
    "## --------\n",
    "## TEST CASE #1:\n",
    "## \n",
    "## 1) The following code should print the list:\n",
    "## [6.004885648174475, 3.7295952571373605, 1.9295669970654687, 0.8519663271732721]\n",
    "\n",
    "length = 20.\n",
    "bearing_noise  = 0.0\n",
    "steering_noise = 0.0\n",
    "distance_noise = 0.0\n",
    "\n",
    "myrobot = Robot(length)\n",
    "myrobot.set(30.0, 20.0, 0.0)\n",
    "myrobot.set_noise(bearing_noise, steering_noise, distance_noise)\n",
    "\n",
    "print('Robot:        ', myrobot) \n",
    "print('Measurements: ', myrobot.sense()) "
   ]
  },
  {
   "cell_type": "code",
   "execution_count": 7,
   "metadata": {},
   "outputs": [
    {
     "name": "stdout",
     "output_type": "stream",
     "text": [
      "Robot:         [x=30.0 y=20.0 theta=0.6283]\n",
      "Measurements:  [5.376567117456516, 3.101276726419402, 1.3012484663475101, 0.22364779645531385]\n"
     ]
    }
   ],
   "source": [
    "## --------\n",
    "## TEST CASE #2:\n",
    "## \n",
    "## 2) The following code should print the list^\n",
    "## [5.376567117456516, 3.101276726419402, 1.3012484663475101, 0.22364779645531352]\n",
    "\n",
    "length = 20.\n",
    "bearing_noise  = 0.0\n",
    "steering_noise = 0.0\n",
    "distance_noise = 0.0\n",
    "\n",
    "myrobot = Robot(length)\n",
    "myrobot.set(30.0, 20.0, pi / 5.0)\n",
    "myrobot.set_noise(bearing_noise, steering_noise, distance_noise)\n",
    "\n",
    "print('Robot:        ', myrobot) \n",
    "print('Measurements: ', myrobot.sense()) "
   ]
  },
  {
   "cell_type": "code",
   "execution_count": 8,
   "metadata": {},
   "outputs": [
    {
     "name": "stdout",
     "output_type": "stream",
     "text": [
      "30.883126613079995 4.9055208698004975\n",
      "[5.897278964138406, 2.984067218415636, 1.5697625854106283, 0.6272432496698341]\n",
      "58.726156365242524 19.139190060271744\n",
      "[5.218885160748462, 2.8265417832414785, 1.5688296690930477, 0.4687372421252638]\n",
      "80.78825577779016 41.299862746687275\n",
      "[4.202639524208518, 2.6690163480673212, 1.5680888337245635, 0.30934542841314183]\n",
      "94.89765901853775 69.20606966546359\n",
      "[3.5257791333791424, 2.511490912893164, 1.5676130047777477, 0.1463915965150413]\n",
      "99.66545384945275 100.11075825560923\n",
      "[3.140476376433787, 2.3539654777190067, 1.567449601759436, 4.388218616480668]\n",
      "94.62230443286047 130.971709121801\n",
      "[2.8631206855193314, 2.1964400425448494, 1.567615651358964, 2.994002261460011]\n",
      "80.26465217194539 158.75100835627077\n",
      "[2.6307147054947846, 2.0389146073706925, 1.5680957514419926, 2.8311051836972085]\n",
      "58.005846631840654 180.71409603381252\n",
      "[2.4203086623363532, 1.8813891721965348, 1.568843223133472, 2.6717238663457947]\n",
      "30.037017153109417 194.69895291521243\n",
      "[2.2219016955590343, 1.723863737022377, 1.569784478788402, 2.513221514278758]\n",
      "-0.8886192157576639 199.32892695230908\n",
      "[2.0304289151519317, 1.5663383018482193, 1.5708262661242482, 2.3550682706362323]\n",
      "-31.72678100595849 194.148249216242\n",
      "[1.842969740783789, 1.4088128666740616, 1.5718650775015437, 2.19708630541567]\n",
      "-59.44179763823414 179.66689922819643\n",
      "[1.6576053246612714, 1.2512874314999038, 1.572797709389251, 2.0391982339141865]\n",
      "-81.30543708738637 157.31040320486895\n",
      "[1.4728696882413157, 1.093761996325746, 1.5735317875163997, 1.8813640095261146]\n",
      "-95.1654696750429 129.27950701739962\n",
      "[1.2874234185125184, 0.9362365611515884, 1.5739950783480197, 1.723559689890597]\n",
      "-99.65753090243234 98.33353748447065\n",
      "[1.0997837424336367, 0.7787111259774306, 1.574142586084565, 1.5657686629874252]\n",
      "-94.33942780743885 67.51877764645465\n",
      "[0.9079905426534065, 0.6211856908032729, 1.5739607440838697, 1.4079772122487695]\n",
      "-79.73466789393927 39.868594423325376\n",
      "[0.7090356854851638, 0.46366025562911517, 1.5734683825013684, 1.2501715322044076]\n",
      "-57.28092569935165 18.104837719516652\n",
      "[0.4976626057591096, 0.30613482045495655, 1.5727145193978664, 1.0923347019786833]\n",
      "-29.18851988787193 4.369904879246775\n",
      "[0.26340586391244614, 0.1486093852807988, 1.5717733276512185, 0.934442086437139]\n",
      "1.7771677903591114 0.01584573658057309\n",
      "[6.2651918830237125, 3.132676603696453, 1.570736849918366, 0.7764521060548004]\n"
     ]
    },
    {
     "data": {
      "image/png": "[encoded data removed]",
      "text/plain": [
       "<Figure size 432x288 with 1 Axes>"
      ]
     },
     "metadata": {
      "needs_background": "light"
     },
     "output_type": "display_data"
    }
   ],
   "source": [
    "## --------\n",
    "## TEST CASE #3:\n",
    "\n",
    "length = 10.\n",
    "bearing_noise  = 0.0\n",
    "steering_noise = 0.0\n",
    "distance_noise = 0.0\n",
    "\n",
    "myrobot = Robot(length)\n",
    "myrobot.set(0.0, 0.0, 0)\n",
    "myrobot.set_noise(bearing_noise, steering_noise, distance_noise)\n",
    "\n",
    "number_of_iterations = 20\n",
    "motions = [[0.1, 31.4] for row in range(number_of_iterations)]\n",
    "\n",
    "for m in motions:\n",
    "    myrobot.move(m)\n",
    "    plt.scatter(myrobot.x, myrobot.y, c=\"red\")\n",
    "    print(myrobot.x, myrobot.y)\n",
    "    print(myrobot.sense())\n",
    "    \n",
    "plt.title(\"Path\", fontsize=19)\n",
    "plt.xlabel(\"X\", fontsize=10)\n",
    "plt.ylabel(\"Y\", fontsize=10)\n",
    "plt.tick_params(axis='both', which='major', labelsize=1)\n",
    "plt.show()"
   ]
  },
  {
   "cell_type": "markdown",
   "metadata": {},
   "source": [
    "## Задание 3\n",
    "\n",
    "Реализуйте модель измерения мобильного робота $p(z_t|x_t, M)$. Метод должен иметь название *measurement_prob()*. Метод *measurement_prob()* принимает на вход вектор измерений $z$ и возвращает правдоподобие измерения. Правдоподобие рассчитывается как произведение четырех (по количеству ориентиров) нормальных распределений ошибок измерения. Каждое нормальное распределение показывает вероятность пеленга т.е. нормальное распределение ошибки для каждого пеленга имеет математиеское ожидание в истинном (ожидаемом) значении пеленга и дисперсию, задающуюся параметром *Robot.bearing_noise*.\n",
    "\n",
    "**Важно:** не забывайте нормировать углы при рассчтете ошибок пеленга. Ошибка должна лежать в диапазоне $-\\pi ... +\\pi$.\n",
    "\n",
    "**Важно:** для получения истинных (ожидаемых) значений измерений вы можете воспользоваться методом *sense()* с флагом *no_noise = True*.\n",
    "\n",
    "Скопруйте класс Robot в ячейку ниже и добавьте к нему метод *measurement_prob()*."
   ]
  },
  {
   "cell_type": "code",
   "execution_count": null,
   "metadata": {},
   "outputs": [],
   "source": []
  },
  {
   "cell_type": "markdown",
   "metadata": {},
   "source": [
    "## Задание 4\n",
    "\n",
    "Запустите фильтр частиц на основе реализованного вами класс *Robot*. Добавьте пошаговую визуализацию работы фильтра чатсиц для второго тестового сценария. Визуализация должна отражать:\n",
    "1. Карту с отмеченными положениями ориентиров.\n",
    "2. Частицы - достаточно отразить только $(x, y)$.\n",
    "3. Финальную оценку полоежния для каждого момента времени."
   ]
  },
  {
   "cell_type": "code",
   "execution_count": 9,
   "metadata": {},
   "outputs": [],
   "source": [
    "from math import *\n",
    "import random\n",
    "\n",
    "max_steering_angle = pi / 4.0 # You do not need to use this value, but keep in mind the limitations of a real car.\n",
    "bearing_noise = 0.1 \n",
    "steering_noise = 0.1\n",
    "distance_noise = 5.0\n",
    "\n",
    "tolerance_xy = 15.0 # Tolerance for localization in the x and y directions.\n",
    "tolerance_orientation = 0.25 # Tolerance for orientation.\n",
    "\n",
    "\n",
    "# --------\n",
    "# \n",
    "# the \"world\" has 4 landmarks.\n",
    "# the robot's initial coordinates are somewhere in the square\n",
    "# represented by the landmarks."
   ]
  },
  {
   "cell_type": "code",
   "execution_count": 10,
   "metadata": {},
   "outputs": [],
   "source": [
    "# Some utility functions\n",
    "\n",
    "def get_position(particles):\n",
    "    particles_num = len(particles)\n",
    "    x = 0.0\n",
    "    y = 0.0\n",
    "    orientation = 0.0\n",
    "    for i in range(len(particles)):\n",
    "        x += particles[i].x\n",
    "        y += particles[i].y\n",
    "        # orientation is tricky because it is cyclic. By normalizing\n",
    "        # around the first particle we are somewhat more robust to\n",
    "        # the 0=2pi problem\n",
    "        orientation += (((particles[i].orientation - particles[0].orientation + pi) % (2.0 * pi)) \n",
    "                        + particles[0].orientation - pi)\n",
    "    return [x / particles_num, y / particles_num, orientation / particles_num]\n",
    "\n",
    "\n",
    "# The following code generates ground truth poses and measurements\n",
    "def generate_ground_truth(motions):\n",
    "\n",
    "    myrobot = Robot()\n",
    "    myrobot.set_noise(bearing_noise, steering_noise, distance_noise)\n",
    "\n",
    "    Z = []\n",
    "    T = len(motions)\n",
    "\n",
    "    for t in range(T):\n",
    "        myrobot = myrobot.move(motions[t])\n",
    "        Z.append(myrobot.sense())\n",
    "        plt.scatter(myrobot.x, myrobot.y, c=\"green\")\n",
    "        \n",
    "    plt.title(\"ground_truth\", fontsize=19)\n",
    "    plt.xlabel(\"X\", fontsize=10)\n",
    "    plt.ylabel(\"Y\", fontsize=10)\n",
    "    plt.tick_params(axis='both', which='major', labelsize=1)\n",
    "    plt.show()\n",
    "    \n",
    "    #print 'Robot:    ', myrobot\n",
    "    return [myrobot, Z]\n",
    "\n",
    "\n",
    "# The following code prints the measurements associated\n",
    "# with generate_ground_truth\n",
    "def print_measurements(Z):\n",
    "\n",
    "    T = len(Z)\n",
    "\n",
    "    print ('measurements = ' + str(Z[0]))\n",
    "    for t in range(1,T-1):\n",
    "        print ('               ' + str(Z[t]))\n",
    "    print (str(Z[T-1]))\n",
    "\n",
    "\n",
    "# The following code checks to see if your particle filter\n",
    "# localizes the robot to within the desired tolerances\n",
    "# of the true position. The tolerances are defined at the top.\n",
    "def check_output(final_robot, estimated_position):\n",
    "\n",
    "    error_x = abs(final_robot.x - estimated_position[0])\n",
    "    error_y = abs(final_robot.y - estimated_position[1])\n",
    "    error_orientation = abs(final_robot.orientation - estimated_position[2])\n",
    "    error_orientation = (error_orientation + pi) % (2.0 * pi) - pi\n",
    "    correct = error_x < tolerance_xy and error_y < tolerance_xy \\\n",
    "              and error_orientation < tolerance_orientation\n",
    "    return correct"
   ]
  },
  {
   "cell_type": "code",
   "execution_count": 11,
   "metadata": {},
   "outputs": [],
   "source": [
    "def particle_filter(motions, measurements, N=500): # We will use 500 particles\n",
    "    # --------\n",
    "    #\n",
    "    # Make particles\n",
    "    # \n",
    "\n",
    "    particles = []\n",
    "    for i in range(N):\n",
    "        r = Robot()\n",
    "        r.set_noise(bearing_noise, steering_noise, distance_noise)\n",
    "        particles.append(r)\n",
    "\n",
    "    # --------\n",
    "    #\n",
    "    # Update particles\n",
    "    #     \n",
    "\n",
    "    for t in range(len(motions)):\n",
    "    \n",
    "        # motion update (prediction)\n",
    "        particles_after_motion = []\n",
    "        for i in range(N):\n",
    "            particles_after_motion.append(particles[i].move(motions[t]))\n",
    "        particles = particles_after_motion\n",
    "\n",
    "        # measurement update (correction)\n",
    "        weights = []\n",
    "        for i in range(N):\n",
    "            weights.append(particles[i].measurement_prob(measurements[t]))\n",
    "\n",
    "        # resampling\n",
    "        particles_resampled = []\n",
    "        index = int(random.random() * N)\n",
    "        beta = 0.0\n",
    "        mw = max(weights)\n",
    "        for i in range(N):\n",
    "            beta += random.random() * 2.0 * mw\n",
    "            while beta > weights[index]:\n",
    "                beta -= weights[index]\n",
    "                index = (index + 1) % N\n",
    "            particles_resampled.append(particles[index])\n",
    "        particles = particles_resampled\n",
    "        \n",
    "        pos = get_position(particles)\n",
    "        if (t % 2 == 0):\n",
    "            color = \"red\" \n",
    "        else: \n",
    "            color = \"green\"\n",
    "        plt.scatter(pos[0], pos[1], c=color)\n",
    "        \n",
    "    plt.title(\"particle filter\", fontsize=19)\n",
    "    plt.xlabel(\"X\", fontsize=10)\n",
    "    plt.ylabel(\"Y\", fontsize=10)\n",
    "    plt.tick_params(axis='both', which='major', labelsize=1)\n",
    "    plt.show()\n",
    "    \n",
    "    return get_position(particles)"
   ]
  },
  {
   "cell_type": "code",
   "execution_count": 12,
   "metadata": {},
   "outputs": [
    {
     "data": {
      "image/png": "[encoded data removed]",
      "text/plain": [
       "<Figure size 432x288 with 1 Axes>"
      ]
     },
     "metadata": {
      "needs_background": "light"
     },
     "output_type": "display_data"
    },
    {
     "name": "stdout",
     "output_type": "stream",
     "text": [
      "[98.80723016813134, 10.643185723964073, 5.7602163297901745]\n"
     ]
    }
   ],
   "source": [
    "## --------\n",
    "## TEST CASE #1:\n",
    "## \n",
    "##1) Calling the particle_filter function with the following\n",
    "##    motions and measurements should return a [x,y,orientation]\n",
    "##    vector near [x=93.476 y=75.186 orient=5.2664], that is, the\n",
    "##    robot's true location.\n",
    "##\n",
    "motions = [[2. * pi / 10, 20.] for row in range(8)]\n",
    "measurements = [[4.746936, 3.859782, 3.045217, 2.045506],\n",
    "                [3.510067, 2.916300, 2.146394, 1.598332],\n",
    "                [2.972469, 2.407489, 1.588474, 1.611094],\n",
    "                [1.906178, 1.193329, 0.619356, 0.807930],\n",
    "                [1.352825, 0.662233, 0.144927, 0.799090],\n",
    "                [0.856150, 0.214590, 5.651497, 1.062401],\n",
    "                [0.194460, 5.660382, 4.761072, 2.471682],\n",
    "                [5.717342, 4.736780, 3.909599, 2.342536]]\n",
    "\n",
    "print (particle_filter(motions, measurements))"
   ]
  },
  {
   "cell_type": "code",
   "execution_count": 13,
   "metadata": {},
   "outputs": [
    {
     "data": {
      "image/png": "[encoded data removed]",
      "text/plain": [
       "<Figure size 432x288 with 1 Axes>"
      ]
     },
     "metadata": {
      "needs_background": "light"
     },
     "output_type": "display_data"
    },
    {
     "data": {
      "image/png": "[encoded data removed]",
      "text/plain": [
       "<Figure size 432x288 with 1 Axes>"
      ]
     },
     "metadata": {
      "needs_background": "light"
     },
     "output_type": "display_data"
    },
    {
     "name": "stdout",
     "output_type": "stream",
     "text": [
      "measurements = [4.008107989852466, 3.010758038240553, 2.195881898606487, 1.3717305390555214]\n",
      "               [3.362175507000824, 2.6525606073354826, 1.8828882444516495, 1.1214147952348572]\n",
      "               [2.9648578552169447, 2.320716840647478, 1.5759276446733779, 0.86320279308761]\n",
      "               [2.6575254191299322, 2.0051232589314125, 1.2690639306537017, 0.5895991541613652]\n",
      "               [2.3882357800802563, 1.6981679636776539, 0.9563762664430691, 0.2865302130134939]\n",
      "[2.137438259690775, 1.393639546261726, 0.6310257819029772, 6.206409271351992]\n",
      "Ground truth:     [x=122.91 y=65.999 theta=2.2407]\n",
      "Particle filter:  [78.89975908691831, 86.24438955183719, 4.06512245020707]\n",
      "Code check:       False\n"
     ]
    }
   ],
   "source": [
    "## --------\n",
    "## TEST CASE #2:\n",
    "##\n",
    "## 2) You can generate your own test cases by generating\n",
    "##    measurements using the generate_ground_truth function.\n",
    "##    It will print the robot's last location when calling it.\n",
    "##\n",
    "\n",
    "number_of_iterations = 6\n",
    "motions = [[2. * pi / 20, 12.] for row in range(number_of_iterations)]\n",
    "\n",
    "x = generate_ground_truth(motions)\n",
    "final_robot = x[0]\n",
    "measurements = x[1]\n",
    "estimated_position = particle_filter(motions, measurements)\n",
    "print_measurements(measurements)\n",
    "print('Ground truth:    ', final_robot) \n",
    "print('Particle filter: ', estimated_position)\n",
    "print('Code check:      ', check_output(final_robot, estimated_position)) "
   ]
  },
  {
   "cell_type": "code",
   "execution_count": 14,
   "metadata": {},
   "outputs": [
    {
     "data": {
      "image/png": "[encoded data removed]",
      "text/plain": [
       "<Figure size 432x288 with 1 Axes>"
      ]
     },
     "metadata": {
      "needs_background": "light"
     },
     "output_type": "display_data"
    },
    {
     "data": {
      "image/png": "[encoded data removed]",
      "text/plain": [
       "<Figure size 432x288 with 1 Axes>"
      ]
     },
     "metadata": {
      "needs_background": "light"
     },
     "output_type": "display_data"
    },
    {
     "name": "stdout",
     "output_type": "stream",
     "text": [
      "measurements = [3.494356468052688, 2.6533260743892644, 1.8008822277079801, 4.802452989195405]\n",
      "               [3.1528708616105767, 2.3854875987200455, 1.6238992051720604, 3.8093339975265224]\n",
      "               [2.84673080679611, 2.1305861405338735, 1.4471709116432718, 3.2948083383025217]\n",
      "               [2.5656349239870373, 1.8837128721528487, 1.269841572970888, 2.9761254323617496]\n",
      "               [2.3015724611732065, 1.6410354773926805, 1.0909241306509028, 2.726899982580429]\n",
      "               [2.04862773030127, 1.3992720395853757, 0.9090491969979082, 2.508054699434412]\n",
      "               [1.8023380090510308, 1.1552588551903682, 0.7219967978865149, 2.3046786517429787]\n",
      "               [1.5591049242258297, 0.9055400763358641, 0.5256147183781064, 2.1099179479054584]\n",
      "               [1.3157200732635266, 0.6459043906214799, 0.3107931281849492, 1.9201195518104548]\n",
      "[1.0689558338673217, 0.3708031755267971, 0.05268562002441257, 1.7330550265947444]\n",
      "Ground truth:     [x=11.996 y=127.45 theta=4.2477]\n",
      "Particle filter:  [16.250600913334075, 11.317445175711976, 6.002005315211155]\n",
      "Code check:       False\n"
     ]
    }
   ],
   "source": [
    "## TEST CASE #3:\n",
    "\n",
    "bearing_noise  = 0.001\n",
    "steering_noise = 0.001\n",
    "distance_noise = 0.01\n",
    "\n",
    "number_of_iterations = 10\n",
    "motions = [[0.25, 12.56] for row in range(number_of_iterations)]\n",
    "\n",
    "x = generate_ground_truth(motions)\n",
    "final_robot = x[0]\n",
    "measurements = x[1]\n",
    "estimated_position = particle_filter(motions, measurements, 1000)\n",
    "print_measurements(measurements)\n",
    "print('Ground truth:    ', final_robot) \n",
    "print('Particle filter: ', estimated_position)\n",
    "print('Code check:      ', check_output(final_robot, estimated_position)) "
   ]
  },
  {
   "cell_type": "code",
   "execution_count": null,
   "metadata": {},
   "outputs": [],
   "source": []
  },
  {
   "cell_type": "code",
   "execution_count": null,
   "metadata": {},
   "outputs": [],
   "source": []
  }
 ],
 "metadata": {
  "kernelspec": {
   "display_name": "Python 3",
   "language": "python",
   "name": "python3"
  },
  "language_info": {
   "codemirror_mode": {
    "name": "ipython",
    "version": 3
   },
   "file_extension": ".py",
   "mimetype": "text/x-python",
   "name": "python",
   "nbconvert_exporter": "python",
   "pygments_lexer": "ipython3",
   "version": "3.7.6"
  }
 },
 "nbformat": 4,
 "nbformat_minor": 2
}
